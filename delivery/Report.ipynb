{
 "cells": [
  {
   "cell_type": "markdown",
   "id": "007d0caf",
   "metadata": {},
   "source": [
    "# TDT4173 Project Report\n",
    "\n",
    "Group Members [studentID]:\n",
    "- Tim Johansen []\n",
    "- Ulrik Schaathun Berge []\n",
    "- Kristian Fredrik Kjeldsen Haug [506536]\n",
    "\n",
    "Kaggle Team:\n",
    "- [4] NAME OF KAGGLE GROUP\n"
   ]
  },
  {
   "cell_type": "markdown",
   "id": "1f0f9b55",
   "metadata": {},
   "source": [
    "## 1. Introduction\n",
    "\n",
    "Brief description of the problem and dataset."
   ]
  },
  {
   "cell_type": "markdown",
   "id": "8688110a",
   "metadata": {},
   "source": [
    "## 2. Exploratory Data Analysis (EDA)\n",
    "\n",
    "- Summary statistics\n",
    "- Feature exploration\n",
    "- Data visualization (e.g. correlations, distributions)"
   ]
  },
  {
   "cell_type": "markdown",
   "id": "4028eca0",
   "metadata": {},
   "source": [
    "## 3. Feature Engineering\n",
    "\n",
    "- Feature selection and transformation."
   ]
  },
  {
   "cell_type": "markdown",
   "id": "dd6bd165",
   "metadata": {},
   "source": [
    "## 4. Model Experiments\n",
    "\n",
    "- Tried different models (e.g., XGBoost, Random Forest, etc.)\n",
    "- Model evaluation metrics (cross-validation, accuracy, etc.)"
   ]
  },
  {
   "cell_type": "markdown",
   "id": "45b25872",
   "metadata": {},
   "source": [
    "## 5. Model Interpretation\n",
    "\n",
    "- Feature importance\n",
    "- PDP (Partial Dependence Plots), SHAP values, LIME etc."
   ]
  },
  {
   "cell_type": "markdown",
   "id": "0093b18e",
   "metadata": {},
   "source": [
    "## 6. Conclusion\n",
    "\n",
    "Summary of the results and best performing model."
   ]
  }
 ],
 "metadata": {
  "language_info": {
   "name": "python"
  }
 },
 "nbformat": 4,
 "nbformat_minor": 5
}
