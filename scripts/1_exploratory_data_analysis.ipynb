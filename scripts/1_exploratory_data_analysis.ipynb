{
 "cells": [
  {
   "cell_type": "markdown",
   "id": "ef2eaab3",
   "metadata": {},
   "source": [
    "# Exploratory Data Analysis\n",
    "\n",
    "This notebook is meant for all EDA. Feel free to add or change sections.\n",
    "\n",
    "\n",
    "Below is a temprorary list of TODOs that you can extend if you notice something you want to check later, but dont have time to do right now.\n",
    "\n",
    "TODO:\n",
    "- Graph out all time-values to see if there is an obious trend over time.\n",
    "- Check for cyclical trends.\n",
    "    - Do sine- and cos-transformations of hour/weekday/month respectively and look for patterns.\n",
    "- Check for outliers.\n",
    "    - Make scatterplots for the continous values and see what values are suspicous.\n",
    "- If there are missing values, look for patterns that wxplain when data is usually missing.\n",
    "    - Do weekends usually have missing data for example?\n",
    "- Check for [class imbalances](https://www.geeksforgeeks.org/machine-learning/how-to-handle-imbalanced-classes-in-machine-learning/).\n",
    "    - If some features have a much lower amount of data points than others, that leads to class imbalance."
   ]
  },
  {
   "cell_type": "markdown",
   "id": "89543289",
   "metadata": {},
   "source": [
    "## Setup"
   ]
  },
  {
   "cell_type": "markdown",
   "id": "43bdd0c5",
   "metadata": {},
   "source": [
    "### Imports"
   ]
  },
  {
   "cell_type": "code",
   "execution_count": null,
   "id": "4d38324d",
   "metadata": {
    "vscode": {
     "languageId": "plaintext"
    }
   },
   "outputs": [],
   "source": []
  },
  {
   "cell_type": "markdown",
   "id": "2b231d10",
   "metadata": {},
   "source": [
    "### Data Loading\n",
    "I have used load/save functions before, but I have not checked if they work properly in this project. Please fix the code if you find errors."
   ]
  },
  {
   "cell_type": "code",
   "execution_count": null,
   "id": "b8deac3b",
   "metadata": {
    "vscode": {
     "languageId": "plaintext"
    }
   },
   "outputs": [],
   "source": [
    "def load_data(filename, folder=\"raw\"):\n",
    "    \"\"\"\n",
    "    Load the data from the specified folder with appropriate delimiter.\n",
    "    \n",
    "    Parameters\n",
    "    ----------\n",
    "    filename : str\n",
    "        The name of the file to load.\n",
    "    folder : str, optional\n",
    "        The folder to load the data from. Default is \"raw\".\n",
    "    \n",
    "    Returns\n",
    "    -------\n",
    "    pandas.DataFrame or geopandas.GeoDataFrame\n",
    "        The loaded data.\n",
    "    \"\"\"\n",
    "    # Define delimiters for different file types\n",
    "    delimiters = {\n",
    "        'ais_test.csv': ',',\n",
    "        'ais_sample_submission.csv': ',',\n",
    "        'default': '|'\n",
    "    }\n",
    "    \n",
    "    BASE_DIR = os.getcwd()\n",
    "    file_path = os.path.join(BASE_DIR, f\"../data/{folder}/{filename}\")\n",
    "    \n",
    "    try:\n",
    "        if folder == \"maps\":\n",
    "            # Load map data\n",
    "            if \"land\" in filename:\n",
    "                df = gpd.read_file(file_path)\n",
    "            elif \"ocean\" in filename:\n",
    "                df = gpd.read_file(file_path)\n",
    "            else:\n",
    "                raise ValueError(\"Unsupported map file\")\n",
    "        else:\n",
    "            # Get correct delimiter\n",
    "            delimiter = delimiters.get(filename, delimiters['default'])\n",
    "            # Load CSV data\n",
    "            df = pd.read_csv(file_path, sep=delimiter)\n",
    "        \n",
    "        print(f\"Data loaded successfully from {file_path}\")\n",
    "        return df\n",
    "    except Exception as e:\n",
    "        print(f\"An error occurred while loading the file: {e}\")\n",
    "\n",
    "def save_data(df, filename, folder=\"2_interim\"):\n",
    "    \"\"\"\n",
    "    Save the dataframe to a CSV file in the specified folder.\n",
    "    \n",
    "    Parameters\n",
    "    ----------\n",
    "    df : pandas.DataFrame\n",
    "        The dataframe to save.\n",
    "    filename : str\n",
    "        The name of the file to save.\n",
    "    folder : str, optional\n",
    "        The folder to save the data in. Default is \"2_interim\".\n",
    "    \"\"\"\n",
    "    BASE_DIR = os.getcwd()\n",
    "    file_path = os.path.join(BASE_DIR, f\"../data/{folder}/{filename}.csv\")\n",
    "    \n",
    "    try:\n",
    "        df.to_csv(file_path, sep='|', index=False)\n",
    "        print(f\"Data saved successfully to {file_path}\")\n",
    "    except Exception as e:\n",
    "        print(f\"An error occurred while saving the file: {e}\")"
   ]
  },
  {
   "cell_type": "markdown",
   "id": "e0363c91",
   "metadata": {},
   "source": [
    "### Helper Functions"
   ]
  },
  {
   "cell_type": "code",
   "execution_count": null,
   "id": "c5e8de38",
   "metadata": {
    "vscode": {
     "languageId": "plaintext"
    }
   },
   "outputs": [],
   "source": []
  },
  {
   "cell_type": "markdown",
   "id": "f63c261e",
   "metadata": {},
   "source": [
    "## Introductory EDA"
   ]
  },
  {
   "cell_type": "code",
   "execution_count": null,
   "id": "8741dcb2",
   "metadata": {
    "vscode": {
     "languageId": "plaintext"
    }
   },
   "outputs": [],
   "source": []
  }
 ],
 "metadata": {
  "language_info": {
   "name": "python"
  }
 },
 "nbformat": 4,
 "nbformat_minor": 5
}
