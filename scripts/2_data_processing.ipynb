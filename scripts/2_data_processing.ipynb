{
 "cells": [
  {
   "cell_type": "markdown",
   "id": "27b92373",
   "metadata": {},
   "source": [
    "# Data Processing\n",
    "\n",
    "This notebook is meant for all data cleaning and processing. Feel free to add or change sections."
   ]
  },
  {
   "cell_type": "markdown",
   "id": "bb2d5deb",
   "metadata": {},
   "source": [
    "## Setup"
   ]
  },
  {
   "cell_type": "markdown",
   "id": "90550889",
   "metadata": {},
   "source": [
    "### Imports"
   ]
  },
  {
   "cell_type": "code",
   "execution_count": null,
   "id": "7a4fec85",
   "metadata": {
    "vscode": {
     "languageId": "plaintext"
    }
   },
   "outputs": [],
   "source": []
  },
  {
   "cell_type": "markdown",
   "id": "9febc650",
   "metadata": {},
   "source": [
    "### Data Loading\n",
    "\n",
    "I have used load/save functions before, but I have not checked if they work properly in this project. Please fix the code if you find errors."
   ]
  },
  {
   "cell_type": "code",
   "execution_count": null,
   "id": "a6963740",
   "metadata": {
    "vscode": {
     "languageId": "plaintext"
    }
   },
   "outputs": [],
   "source": [
    "def load_data(filename, folder=\"raw\"):\n",
    "    \"\"\"\n",
    "    Load the data from the specified folder with appropriate delimiter.\n",
    "    \n",
    "    Parameters\n",
    "    ----------\n",
    "    filename : str\n",
    "        The name of the file to load.\n",
    "    folder : str, optional\n",
    "        The folder to load the data from. Default is \"raw\".\n",
    "    \n",
    "    Returns\n",
    "    -------\n",
    "    pandas.DataFrame or geopandas.GeoDataFrame\n",
    "        The loaded data.\n",
    "    \"\"\"\n",
    "    # Define delimiters for different file types\n",
    "    delimiters = {\n",
    "        'ais_test.csv': ',',\n",
    "        'ais_sample_submission.csv': ',',\n",
    "        'default': '|'\n",
    "    }\n",
    "    \n",
    "    BASE_DIR = os.getcwd()\n",
    "    file_path = os.path.join(BASE_DIR, f\"../data/{folder}/{filename}\")\n",
    "    \n",
    "    try:\n",
    "        if folder == \"maps\":\n",
    "            # Load map data\n",
    "            if \"land\" in filename:\n",
    "                df = gpd.read_file(file_path)\n",
    "            elif \"ocean\" in filename:\n",
    "                df = gpd.read_file(file_path)\n",
    "            else:\n",
    "                raise ValueError(\"Unsupported map file\")\n",
    "        else:\n",
    "            # Get correct delimiter\n",
    "            delimiter = delimiters.get(filename, delimiters['default'])\n",
    "            # Load CSV data\n",
    "            df = pd.read_csv(file_path, sep=delimiter)\n",
    "        \n",
    "        print(f\"Data loaded successfully from {file_path}\")\n",
    "        return df\n",
    "    except Exception as e:\n",
    "        print(f\"An error occurred while loading the file: {e}\")\n",
    "\n",
    "def save_data(df, filename, folder=\"2_interim\"):\n",
    "    \"\"\"\n",
    "    Save the dataframe to a CSV file in the specified folder.\n",
    "    \n",
    "    Parameters\n",
    "    ----------\n",
    "    df : pandas.DataFrame\n",
    "        The dataframe to save.\n",
    "    filename : str\n",
    "        The name of the file to save.\n",
    "    folder : str, optional\n",
    "        The folder to save the data in. Default is \"2_interim\".\n",
    "    \"\"\"\n",
    "    BASE_DIR = os.getcwd()\n",
    "    file_path = os.path.join(BASE_DIR, f\"../data/{folder}/{filename}.csv\")\n",
    "    \n",
    "    try:\n",
    "        df.to_csv(file_path, sep='|', index=False)\n",
    "        print(f\"Data saved successfully to {file_path}\")\n",
    "    except Exception as e:\n",
    "        print(f\"An error occurred while saving the file: {e}\")"
   ]
  },
  {
   "cell_type": "markdown",
   "id": "dc17ddc1",
   "metadata": {},
   "source": [
    "### Helper Functions"
   ]
  },
  {
   "cell_type": "code",
   "execution_count": null,
   "id": "2f912ffe",
   "metadata": {
    "vscode": {
     "languageId": "plaintext"
    }
   },
   "outputs": [],
   "source": []
  }
 ],
 "metadata": {
  "language_info": {
   "name": "python"
  }
 },
 "nbformat": 4,
 "nbformat_minor": 5
}
