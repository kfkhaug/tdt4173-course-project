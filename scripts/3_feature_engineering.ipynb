{
 "cells": [
  {
   "cell_type": "markdown",
   "id": "5a16801b",
   "metadata": {},
   "source": [
    "# Feature Engineering"
   ]
  },
  {
   "cell_type": "markdown",
   "id": "46cf9390",
   "metadata": {},
   "source": [
    "## Setup\n",
    "\n",
    "This notebook is meant for all feature engineering. Feel free to add or change sections."
   ]
  },
  {
   "cell_type": "markdown",
   "id": "7709fa9e",
   "metadata": {},
   "source": [
    "### Imports"
   ]
  },
  {
   "cell_type": "code",
   "execution_count": null,
   "id": "befd3fe6",
   "metadata": {
    "vscode": {
     "languageId": "plaintext"
    }
   },
   "outputs": [],
   "source": []
  },
  {
   "cell_type": "markdown",
   "id": "793599f3",
   "metadata": {},
   "source": [
    "### Data Loading\n",
    "I have used load/save functions before, but I have not checked if they work properly in this project. Please fix the code if you find errors."
   ]
  },
  {
   "cell_type": "code",
   "execution_count": null,
   "id": "266605f0",
   "metadata": {
    "vscode": {
     "languageId": "plaintext"
    }
   },
   "outputs": [],
   "source": [
    "def load_data(filename, folder=\"raw\"):\n",
    "    \"\"\"\n",
    "    Load the data from the specified folder with appropriate delimiter.\n",
    "    \n",
    "    Parameters\n",
    "    ----------\n",
    "    filename : str\n",
    "        The name of the file to load.\n",
    "    folder : str, optional\n",
    "        The folder to load the data from. Default is \"raw\".\n",
    "    \n",
    "    Returns\n",
    "    -------\n",
    "    pandas.DataFrame or geopandas.GeoDataFrame\n",
    "        The loaded data.\n",
    "    \"\"\"\n",
    "    # Define delimiters for different file types\n",
    "    delimiters = {\n",
    "        'ais_test.csv': ',',\n",
    "        'ais_sample_submission.csv': ',',\n",
    "        'default': '|'\n",
    "    }\n",
    "    \n",
    "    BASE_DIR = os.getcwd()\n",
    "    file_path = os.path.join(BASE_DIR, f\"../data/{folder}/{filename}\")\n",
    "    \n",
    "    try:\n",
    "        if folder == \"maps\":\n",
    "            # Load map data\n",
    "            if \"land\" in filename:\n",
    "                df = gpd.read_file(file_path)\n",
    "            elif \"ocean\" in filename:\n",
    "                df = gpd.read_file(file_path)\n",
    "            else:\n",
    "                raise ValueError(\"Unsupported map file\")\n",
    "        else:\n",
    "            # Get correct delimiter\n",
    "            delimiter = delimiters.get(filename, delimiters['default'])\n",
    "            # Load CSV data\n",
    "            df = pd.read_csv(file_path, sep=delimiter)\n",
    "        \n",
    "        print(f\"Data loaded successfully from {file_path}\")\n",
    "        return df\n",
    "    except Exception as e:\n",
    "        print(f\"An error occurred while loading the file: {e}\")\n",
    "\n",
    "def save_data(df, filename, folder=\"2_interim\"):\n",
    "    \"\"\"\n",
    "    Save the dataframe to a CSV file in the specified folder.\n",
    "    \n",
    "    Parameters\n",
    "    ----------\n",
    "    df : pandas.DataFrame\n",
    "        The dataframe to save.\n",
    "    filename : str\n",
    "        The name of the file to save.\n",
    "    folder : str, optional\n",
    "        The folder to save the data in. Default is \"2_interim\".\n",
    "    \"\"\"\n",
    "    BASE_DIR = os.getcwd()\n",
    "    file_path = os.path.join(BASE_DIR, f\"../data/{folder}/{filename}.csv\")\n",
    "    \n",
    "    try:\n",
    "        df.to_csv(file_path, sep='|', index=False)\n",
    "        print(f\"Data saved successfully to {file_path}\")\n",
    "    except Exception as e:\n",
    "        print(f\"An error occurred while saving the file: {e}\")"
   ]
  },
  {
   "cell_type": "markdown",
   "id": "1fd8d9c0",
   "metadata": {},
   "source": [
    "### Helper Functions"
   ]
  },
  {
   "cell_type": "code",
   "execution_count": null,
   "id": "fab45f7c",
   "metadata": {
    "vscode": {
     "languageId": "plaintext"
    }
   },
   "outputs": [],
   "source": []
  },
  {
   "cell_type": "markdown",
   "id": "4201110f",
   "metadata": {},
   "source": [
    "## Introductory Feature Engineering"
   ]
  },
  {
   "cell_type": "code",
   "execution_count": null,
   "id": "262da579",
   "metadata": {
    "vscode": {
     "languageId": "plaintext"
    }
   },
   "outputs": [],
   "source": []
  },
  {
   "cell_type": "markdown",
   "id": "1ae54361",
   "metadata": {},
   "source": [
    "## Saving the Processed Data"
   ]
  },
  {
   "cell_type": "code",
   "execution_count": null,
   "id": "e35b82b9",
   "metadata": {
    "vscode": {
     "languageId": "plaintext"
    }
   },
   "outputs": [],
   "source": [
    "y_train =\n",
    "x_train =\n",
    "y_test =\n",
    "x_test =\n",
    "\n",
    "save_data(x_train, \"x_train\", folder=\"processed\")\n",
    "save_data(x_test, \"x_test\", folder=\"processed\")\n",
    "save_data(y_train, \"y_train\", folder=\"processed\")\n",
    "save_data(y_test, \"y_test\", folder=\"processed\")"
   ]
  }
 ],
 "metadata": {
  "language_info": {
   "name": "python"
  }
 },
 "nbformat": 4,
 "nbformat_minor": 5
}
