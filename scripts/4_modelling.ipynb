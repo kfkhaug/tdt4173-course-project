{
 "cells": [
  {
   "cell_type": "markdown",
   "id": "b5fd77a9",
   "metadata": {},
   "source": [
    "# Modelling\n",
    "\n",
    "This notebook is used for both training models and using them to generate predictions. Feel free to begin configuring model code!\n",
    "\n",
    "The (example) models we (may) use are:\n",
    "1. XGBoost\n",
    "2. Random Forest Classifier\n",
    "3. Temporal Fusion Transformer\n",
    "\n",
    "There are placeholder sections for both Random Forest Classifier and Temporal Fusion Transformer, but these are not meant to be included. They are just placeholders in case we wanbt to include more models. We need at least two models."
   ]
  },
  {
   "cell_type": "markdown",
   "id": "38bc6d4f",
   "metadata": {},
   "source": [
    "## Setup"
   ]
  },
  {
   "cell_type": "markdown",
   "id": "2900c098",
   "metadata": {},
   "source": [
    "### Imports"
   ]
  },
  {
   "cell_type": "code",
   "execution_count": null,
   "id": "056faac1",
   "metadata": {
    "vscode": {
     "languageId": "plaintext"
    }
   },
   "outputs": [],
   "source": []
  },
  {
   "cell_type": "markdown",
   "id": "744f2086",
   "metadata": {},
   "source": [
    "### Data Loading\n",
    "I have used load/save functions before, but I have not checked if they work properly in this project. Please fix the code if you find errors."
   ]
  },
  {
   "cell_type": "code",
   "execution_count": null,
   "id": "706277d5",
   "metadata": {
    "vscode": {
     "languageId": "plaintext"
    }
   },
   "outputs": [],
   "source": [
    "def load_data(filename, folder=\"raw\"):\n",
    "    \"\"\"\n",
    "    Load the data from the specified folder with appropriate delimiter.\n",
    "    \n",
    "    Parameters\n",
    "    ----------\n",
    "    filename : str\n",
    "        The name of the file to load.\n",
    "    folder : str, optional\n",
    "        The folder to load the data from. Default is \"raw\".\n",
    "    \n",
    "    Returns\n",
    "    -------\n",
    "    pandas.DataFrame or geopandas.GeoDataFrame\n",
    "        The loaded data.\n",
    "    \"\"\"\n",
    "    # Define delimiters for different file types\n",
    "    delimiters = {\n",
    "        'ais_test.csv': ',',\n",
    "        'ais_sample_submission.csv': ',',\n",
    "        'default': '|'\n",
    "    }\n",
    "    \n",
    "    BASE_DIR = os.getcwd()\n",
    "    file_path = os.path.join(BASE_DIR, f\"../data/{folder}/{filename}\")\n",
    "    \n",
    "    try:\n",
    "        if folder == \"maps\":\n",
    "            # Load map data\n",
    "            if \"land\" in filename:\n",
    "                df = gpd.read_file(file_path)\n",
    "            elif \"ocean\" in filename:\n",
    "                df = gpd.read_file(file_path)\n",
    "            else:\n",
    "                raise ValueError(\"Unsupported map file\")\n",
    "        else:\n",
    "            # Get correct delimiter\n",
    "            delimiter = delimiters.get(filename, delimiters['default'])\n",
    "            # Load CSV data\n",
    "            df = pd.read_csv(file_path, sep=delimiter)\n",
    "        \n",
    "        print(f\"Data loaded successfully from {file_path}\")\n",
    "        return df\n",
    "    except Exception as e:\n",
    "        print(f\"An error occurred while loading the file: {e}\")\n",
    "\n",
    "def save_data(df, filename, folder=\"2_interim\"):\n",
    "    \"\"\"\n",
    "    Save the dataframe to a CSV file in the specified folder.\n",
    "    \n",
    "    Parameters\n",
    "    ----------\n",
    "    df : pandas.DataFrame\n",
    "        The dataframe to save.\n",
    "    filename : str\n",
    "        The name of the file to save.\n",
    "    folder : str, optional\n",
    "        The folder to save the data in. Default is \"2_interim\".\n",
    "    \"\"\"\n",
    "    BASE_DIR = os.getcwd()\n",
    "    file_path = os.path.join(BASE_DIR, f\"../data/{folder}/{filename}.csv\")\n",
    "    \n",
    "    try:\n",
    "        df.to_csv(file_path, sep='|', index=False)\n",
    "        print(f\"Data saved successfully to {file_path}\")\n",
    "    except Exception as e:\n",
    "        print(f\"An error occurred while saving the file: {e}\")"
   ]
  },
  {
   "cell_type": "markdown",
   "id": "7547b63a",
   "metadata": {},
   "source": [
    "### Helper Functions"
   ]
  },
  {
   "cell_type": "code",
   "execution_count": null,
   "id": "11d3b67a",
   "metadata": {
    "vscode": {
     "languageId": "plaintext"
    }
   },
   "outputs": [],
   "source": []
  },
  {
   "cell_type": "markdown",
   "id": "8809b863",
   "metadata": {},
   "source": [
    "## XGBoost\n",
    "\n",
    "This section implements the XGboost model. Then the model is used for prediction.\n",
    "\n",
    "Pros:\n",
    "- Quick training\n",
    "- Handles label-encoding of categoricals\n",
    "- Performant with limited data\n",
    "- Handles missing values\n",
    "\n",
    "Cons:\n",
    "- Requires good-quality training data\n",
    "\n",
    "Got a tip that XGBoost can be configured to use quantile regression as the objective function. We need to use something like ```reg:quantileerror``` with the parameter ```alpha=0.2```. This way we optimize the model for the 20-percent quantile, such as the task asks for."
   ]
  },
  {
   "cell_type": "markdown",
   "id": "3059b6d5",
   "metadata": {},
   "source": [
    "### Training"
   ]
  },
  {
   "cell_type": "markdown",
   "id": "8717d3d9",
   "metadata": {},
   "source": [
    "### Prediction"
   ]
  },
  {
   "cell_type": "markdown",
   "id": "7458236c",
   "metadata": {},
   "source": [
    "## Random Forest Classifier"
   ]
  },
  {
   "cell_type": "markdown",
   "id": "ec223cd3",
   "metadata": {},
   "source": [
    "### Training"
   ]
  },
  {
   "cell_type": "markdown",
   "id": "f3e1e238",
   "metadata": {},
   "source": [
    "### Prediction"
   ]
  },
  {
   "cell_type": "markdown",
   "id": "35ad0a97",
   "metadata": {},
   "source": [
    "## Temporal Fusion Transformer\n",
    "If we want to experiment with more models.\n",
    "\n",
    "Pros:\n",
    "- Handles irregular timestamps\n",
    "- Can learn \"deeper\" trends than xgboost\n",
    "- Handles missing values\n",
    "- Can do \"target encoding\" of categoricals instead of one-hot encoding.\n",
    "\n",
    "Cons:\n",
    "- Long training time"
   ]
  },
  {
   "cell_type": "markdown",
   "id": "f6fad0fa",
   "metadata": {},
   "source": [
    "### Training"
   ]
  },
  {
   "cell_type": "markdown",
   "id": "378e232a",
   "metadata": {},
   "source": [
    "### Prediction"
   ]
  }
 ],
 "metadata": {
  "language_info": {
   "name": "python"
  }
 },
 "nbformat": 4,
 "nbformat_minor": 5
}
