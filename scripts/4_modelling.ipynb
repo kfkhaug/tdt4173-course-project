{
 "cells": [
  {
   "cell_type": "markdown",
   "id": "b5fd77a9",
   "metadata": {},
   "source": [
    "# Modelling\n",
    "\n",
    "This notebook is used for both training models and using them to generate predictions. Feel free to begin configuring model code!\n",
    "\n",
    "Below are some models we may use. Included are some observations concerning each of them.\n",
    "1. N-BEATS\n",
    "    - Sequence modelling.\n",
    "    - Easily interpretable\n",
    "    - Very performant for time-series forecasting.\n",
    "    - Far more stable than other RNN-based neural networks.\n",
    "    - [Docs](https://unit8co.github.io/darts/generated_api/darts.models.forecasting.nbeats.html).\n",
    "2. XGBoost\n",
    "    - Feature modelling. Can use [TSfresh](https://tsfresh.readthedocs.io/en/latest/) to automatically generate and filter a lot of good features.\n",
    "    - Quick training\n",
    "    - Handles label-encoding of categoricals\n",
    "    - Performant with limited data\n",
    "    - Handles missing values\n",
    "    - Requires good-quality training data \n",
    "    - [Docs](https://xgboost.readthedocs.io/en/stable/).\n",
    "\n",
    "3. DLinear\n",
    "    - Incredibly simple, yet surprisingly performant for seasonal and cyclical time-series.\n",
    "    - Essentially N-BEATS without neural networks.\n",
    "    - [Docs](https://unit8co.github.io/darts/generated_api/darts.models.forecasting.dlinear.html).\n",
    "4. Temporal Fusion Transformer\n",
    "    - Sequence modelling. Handles time-series very well.\n",
    "    - Good interpretability.\n",
    "    - Requires a good deal of training data to perform well. Maybe we have enough, maybe not.\n",
    "    - [Docs](https://unit8co.github.io/darts/generated_api/darts.models.forecasting.tft_model.html)\n",
    "5. Random Forest Classifier\n",
    "    - A simpler, less performant version of XGBoost.\n",
    "    - Feature modelling.\n",
    "    - [Docs](https://scikit-learn.org/stable/modules/generated/sklearn.ensemble.RandomForestClassifier.html)"
   ]
  },
  {
   "cell_type": "markdown",
   "id": "38bc6d4f",
   "metadata": {},
   "source": [
    "## Setup"
   ]
  },
  {
   "cell_type": "markdown",
   "id": "2900c098",
   "metadata": {},
   "source": [
    "### Imports"
   ]
  },
  {
   "cell_type": "code",
   "execution_count": null,
   "id": "056faac1",
   "metadata": {
    "vscode": {
     "languageId": "plaintext"
    }
   },
   "outputs": [],
   "source": []
  },
  {
   "cell_type": "markdown",
   "id": "744f2086",
   "metadata": {},
   "source": [
    "### Data Loading\n",
    "I have used load/save functions before, but I have not checked if they work properly in this project. Please fix the code if you find errors."
   ]
  },
  {
   "cell_type": "code",
   "execution_count": null,
   "id": "706277d5",
   "metadata": {
    "vscode": {
     "languageId": "plaintext"
    }
   },
   "outputs": [],
   "source": [
    "def load_data(filename, folder=\"raw\"):\n",
    "    \"\"\"\n",
    "    Load the data from the specified folder with appropriate delimiter.\n",
    "    \n",
    "    Parameters\n",
    "    ----------\n",
    "    filename : str\n",
    "        The name of the file to load.\n",
    "    folder : str, optional\n",
    "        The folder to load the data from. Default is \"raw\".\n",
    "    \n",
    "    Returns\n",
    "    -------\n",
    "    pandas.DataFrame or geopandas.GeoDataFrame\n",
    "        The loaded data.\n",
    "    \"\"\"\n",
    "    # Define delimiters for different file types\n",
    "    delimiters = {\n",
    "        'ais_test.csv': ',',\n",
    "        'ais_sample_submission.csv': ',',\n",
    "        'default': '|'\n",
    "    }\n",
    "    \n",
    "    BASE_DIR = os.getcwd()\n",
    "    file_path = os.path.join(BASE_DIR, f\"../data/{folder}/{filename}\")\n",
    "    \n",
    "    try:\n",
    "        if folder == \"maps\":\n",
    "            # Load map data\n",
    "            if \"land\" in filename:\n",
    "                df = gpd.read_file(file_path)\n",
    "            elif \"ocean\" in filename:\n",
    "                df = gpd.read_file(file_path)\n",
    "            else:\n",
    "                raise ValueError(\"Unsupported map file\")\n",
    "        else:\n",
    "            # Get correct delimiter\n",
    "            delimiter = delimiters.get(filename, delimiters['default'])\n",
    "            # Load CSV data\n",
    "            df = pd.read_csv(file_path, sep=delimiter)\n",
    "        \n",
    "        print(f\"Data loaded successfully from {file_path}\")\n",
    "        return df\n",
    "    except Exception as e:\n",
    "        print(f\"An error occurred while loading the file: {e}\")\n",
    "\n",
    "def save_data(df, filename, folder=\"2_interim\"):\n",
    "    \"\"\"\n",
    "    Save the dataframe to a CSV file in the specified folder.\n",
    "    \n",
    "    Parameters\n",
    "    ----------\n",
    "    df : pandas.DataFrame\n",
    "        The dataframe to save.\n",
    "    filename : str\n",
    "        The name of the file to save.\n",
    "    folder : str, optional\n",
    "        The folder to save the data in. Default is \"2_interim\".\n",
    "    \"\"\"\n",
    "    BASE_DIR = os.getcwd()\n",
    "    file_path = os.path.join(BASE_DIR, f\"../data/{folder}/{filename}.csv\")\n",
    "    \n",
    "    try:\n",
    "        df.to_csv(file_path, sep='|', index=False)\n",
    "        print(f\"Data saved successfully to {file_path}\")\n",
    "    except Exception as e:\n",
    "        print(f\"An error occurred while saving the file: {e}\")"
   ]
  },
  {
   "cell_type": "markdown",
   "id": "7547b63a",
   "metadata": {},
   "source": [
    "### Helper Functions"
   ]
  },
  {
   "cell_type": "code",
   "execution_count": null,
   "id": "11d3b67a",
   "metadata": {
    "vscode": {
     "languageId": "plaintext"
    }
   },
   "outputs": [],
   "source": []
  },
  {
   "cell_type": "markdown",
   "id": "8809b863",
   "metadata": {},
   "source": [
    "## XGBoost\n",
    "\n",
    "This section implements the XGboost model. Then the model is used for prediction.\n",
    "\n",
    "Pros:\n",
    "- Quick training\n",
    "- Handles label-encoding of categoricals\n",
    "- Performant with limited data\n",
    "- Handles missing values\n",
    "\n",
    "Cons:\n",
    "- Requires good-quality training data\n",
    "\n",
    "Got a tip that XGBoost can be configured to use quantile regression as the objective function. We need to use something like ```reg:quantileerror``` with the parameter ```alpha=0.2```. This way we optimize the model for the 20-percent quantile, such as the task asks for."
   ]
  },
  {
   "cell_type": "markdown",
   "id": "3059b6d5",
   "metadata": {},
   "source": [
    "### Training"
   ]
  },
  {
   "cell_type": "markdown",
   "id": "8717d3d9",
   "metadata": {},
   "source": [
    "### Prediction"
   ]
  },
  {
   "cell_type": "markdown",
   "id": "4efad92e",
   "metadata": {},
   "source": [
    "### Model Evaluation"
   ]
  }
 ],
 "metadata": {
  "language_info": {
   "name": "python"
  }
 },
 "nbformat": 4,
 "nbformat_minor": 5
}
